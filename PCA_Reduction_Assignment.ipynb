{
 "cells": [
  {
   "cell_type": "raw",
   "id": "b7bcd4ce",
   "metadata": {},
   "source": [
    "                                            Md. Mintu Hossain\n",
    "                                            ID: 2315034650\n",
    "                                            Program: M.Sc. in CSE, NSU "
   ]
  },
  {
   "cell_type": "markdown",
   "id": "f29df856",
   "metadata": {},
   "source": [
    "## Importing the Packages and Libraries"
   ]
  },
  {
   "cell_type": "code",
   "execution_count": 42,
   "id": "942cf0ff",
   "metadata": {},
   "outputs": [],
   "source": [
    "import numpy as np\n",
    "import matplotlib.pyplot as plt\n",
    "from sklearn.decomposition import PCA"
   ]
  },
  {
   "cell_type": "markdown",
   "id": "d5b4ef36",
   "metadata": {},
   "source": [
    "## Import the Dataset "
   ]
  },
  {
   "cell_type": "code",
   "execution_count": 43,
   "id": "fcb2c26a",
   "metadata": {},
   "outputs": [],
   "source": [
    "from sklearn.datasets import load_digits\n",
    "digits = load_digits()\n",
    "data = digits.data"
   ]
  },
  {
   "cell_type": "markdown",
   "id": "a8a8234e",
   "metadata": {},
   "source": [
    "## 1. Check the Shape of the Digits Data "
   ]
  },
  {
   "cell_type": "code",
   "execution_count": 44,
   "id": "773957ff",
   "metadata": {},
   "outputs": [
    {
     "data": {
      "text/plain": [
       "(1797, 64)"
      ]
     },
     "execution_count": 44,
     "metadata": {},
     "output_type": "execute_result"
    }
   ],
   "source": [
    "shape_data = digits.data.shape\n",
    "shape_data"
   ]
  },
  {
   "cell_type": "code",
   "execution_count": 45,
   "id": "14070f08",
   "metadata": {},
   "outputs": [
    {
     "data": {
      "text/plain": [
       "(1797, 8, 8)"
      ]
     },
     "execution_count": 45,
     "metadata": {},
     "output_type": "execute_result"
    }
   ],
   "source": [
    "image_shape = digits.images.shape\n",
    "image_shape"
   ]
  },
  {
   "cell_type": "markdown",
   "id": "c44d9c24",
   "metadata": {},
   "source": [
    "## 2. Flatten the pixels create a vector of length 64 for every image. It should be a matrix with samples in row and pixels in columns. "
   ]
  },
  {
   "cell_type": "code",
   "execution_count": 46,
   "id": "9f54cd1d",
   "metadata": {},
   "outputs": [
    {
     "data": {
      "text/plain": [
       "array([[ 0.,  0.,  5., ...,  0.,  0.,  0.],\n",
       "       [ 0.,  0.,  0., ..., 10.,  0.,  0.],\n",
       "       [ 0.,  0.,  0., ..., 16.,  9.,  0.],\n",
       "       ...,\n",
       "       [ 0.,  0.,  1., ...,  6.,  0.,  0.],\n",
       "       [ 0.,  0.,  2., ..., 12.,  0.,  0.],\n",
       "       [ 0.,  0., 10., ..., 12.,  1.,  0.]])"
      ]
     },
     "execution_count": 46,
     "metadata": {},
     "output_type": "execute_result"
    }
   ],
   "source": [
    "images = digits.images\n",
    "labels = digits.target\n",
    "\n",
    "m = images.shape[0]\n",
    "flattened_images = images.reshape(m, -1)\n",
    "\n",
    "# Flatten the images and create a matrix with samples in rows and pixels in columns\n",
    "# flattened_images = images.reshape(images.shape[0], -1)\n",
    "\n",
    "flattened_images"
   ]
  },
  {
   "cell_type": "markdown",
   "id": "ccb0de37",
   "metadata": {},
   "source": [
    "## 3. Sample image to view, the last digit of my ID is 4 (ID: 2315034) "
   ]
  },
  {
   "cell_type": "code",
   "execution_count": 47,
   "id": "3317db46",
   "metadata": {},
   "outputs": [
    {
     "data": {
      "image/png": "[encoded data removed]",
      "text/plain": [
       "<Figure size 300x300 with 1 Axes>"
      ]
     },
     "metadata": {},
     "output_type": "display_data"
    }
   ],
   "source": [
    "plt.figure(1, figsize=(3, 3))\n",
    "plt.imshow(digits.images[4], cmap=plt.cm.gray_r, interpolation=\"nearest\")  # Using ID last digit(4)\n",
    "plt.show()"
   ]
  },
  {
   "cell_type": "markdown",
   "id": "f540f50d",
   "metadata": {},
   "source": [
    "## 4. Apply PCA, to reduce the image dimensions from 64 to just r "
   ]
  },
  {
   "cell_type": "markdown",
   "id": "7ed3ea94",
   "metadata": {},
   "source": [
    "### 4(a). Transpose of image matrix so that pixels (features, n) are in row and samples (m) are in column "
   ]
  },
  {
   "cell_type": "code",
   "execution_count": 48,
   "id": "c6d94488",
   "metadata": {},
   "outputs": [
    {
     "data": {
      "text/plain": [
       "array([[0., 0., 0., ..., 0., 0., 0.],\n",
       "       [0., 0., 0., ..., 0., 0., 0.],\n",
       "       [0., 0., 0., ..., 0., 0., 0.],\n",
       "       ...,\n",
       "       [0., 0., 0., ..., 0., 0., 0.],\n",
       "       [0., 0., 0., ..., 0., 0., 0.],\n",
       "       [0., 0., 0., ..., 0., 0., 0.]])"
      ]
     },
     "execution_count": 48,
     "metadata": {},
     "output_type": "execute_result"
    }
   ],
   "source": [
    "transposed_images = np.transpose(images, (0, 2, 1)).reshape(images.shape[0], -1)\n",
    "transposed_images"
   ]
  },
  {
   "cell_type": "markdown",
   "id": "e7c72de3",
   "metadata": {},
   "source": [
    "### 4(b). Next do mean subtraction for each image  "
   ]
  },
  {
   "cell_type": "code",
   "execution_count": 49,
   "id": "a3aa336a",
   "metadata": {},
   "outputs": [
    {
     "data": {
      "text/plain": [
       "array([[ 0.        , -0.00556483, -0.00278242, ..., -0.02726767,\n",
       "        -0.2064552 , -0.36449638],\n",
       "       [ 0.        , -0.00556483, -0.00278242, ..., -0.02726767,\n",
       "        -0.2064552 , -0.36449638],\n",
       "       [ 0.        , -0.00556483, -0.00278242, ..., -0.02726767,\n",
       "        -0.2064552 , -0.36449638],\n",
       "       ...,\n",
       "       [ 0.        , -0.00556483, -0.00278242, ..., -0.02726767,\n",
       "        -0.2064552 , -0.36449638],\n",
       "       [ 0.        , -0.00556483, -0.00278242, ..., -0.02726767,\n",
       "        -0.2064552 , -0.36449638],\n",
       "       [ 0.        , -0.00556483, -0.00278242, ..., -0.02726767,\n",
       "        -0.2064552 , -0.36449638]])"
      ]
     },
     "execution_count": 49,
     "metadata": {},
     "output_type": "execute_result"
    }
   ],
   "source": [
    "mean_image = np.mean(transposed_images, axis=0)\n",
    "mean_subtracted_images = transposed_images - mean_image\n",
    "mean_subtracted_images"
   ]
  },
  {
   "cell_type": "markdown",
   "id": "7558ea49",
   "metadata": {},
   "source": [
    "### 4(c). Then compute Covariance matrix. It should be of size nxn "
   ]
  },
  {
   "cell_type": "code",
   "execution_count": 50,
   "id": "ea5bc17c",
   "metadata": {},
   "outputs": [
    {
     "data": {
      "text/plain": [
       "array([[ 0.00000000e+00,  0.00000000e+00,  0.00000000e+00, ...,\n",
       "         0.00000000e+00,  0.00000000e+00,  0.00000000e+00],\n",
       "       [ 0.00000000e+00,  8.87770139e-03,  1.65488633e-03, ...,\n",
       "        -1.51824434e-04,  1.07764364e-03, -9.15904136e-04],\n",
       "       [ 0.00000000e+00,  1.65488633e-03,  3.88980397e-03, ...,\n",
       "        -7.59122170e-05, -5.74763928e-04,  1.76921942e-03],\n",
       "       ...,\n",
       "       [ 0.00000000e+00, -1.51824434e-04, -7.59122170e-05, ...,\n",
       "         9.44676416e-02,  1.17975331e-01,  3.41852853e-03],\n",
       "       [ 0.00000000e+00,  1.07764364e-03, -5.74763928e-04, ...,\n",
       "         1.17975331e-01,  9.69045167e-01,  1.03272374e+00],\n",
       "       [ 0.00000000e+00, -9.15904136e-04,  1.76921942e-03, ...,\n",
       "         3.41852853e-03,  1.03272374e+00,  3.46005282e+00]])"
      ]
     },
     "execution_count": 50,
     "metadata": {},
     "output_type": "execute_result"
    }
   ],
   "source": [
    "cov_matrix = np.cov(mean_subtracted_images, rowvar=False)\n",
    "cov_matrix"
   ]
  },
  {
   "cell_type": "markdown",
   "id": "6346e859",
   "metadata": {},
   "source": [
    "### 4(d). Then calculate SVD and get the eigenvector matrix "
   ]
  },
  {
   "cell_type": "code",
   "execution_count": 51,
   "id": "721bb522",
   "metadata": {},
   "outputs": [
    {
     "data": {
      "text/plain": [
       "array([[ 0.00000000e+00,  0.00000000e+00,  0.00000000e+00, ...,\n",
       "         0.00000000e+00,  1.00000000e+00,  0.00000000e+00],\n",
       "       [-3.20516495e-04, -1.63216259e-04,  3.93971137e-04, ...,\n",
       "        -6.91985074e-14,  0.00000000e+00, -5.59283154e-17],\n",
       "       [-4.94136398e-05, -4.22872096e-05,  2.12613357e-04, ...,\n",
       "         3.53473214e-13,  0.00000000e+00,  4.75401274e-17],\n",
       "       ...,\n",
       "       [ 1.61485028e-03,  1.32726068e-03,  2.92247625e-03, ...,\n",
       "         1.09287579e-16,  0.00000000e+00,  4.30785712e-17],\n",
       "       [ 9.61671077e-04,  5.42290907e-04,  2.18621440e-02, ...,\n",
       "        -3.88578059e-16,  0.00000000e+00,  1.94632329e-16],\n",
       "       [-1.14684954e-02, -6.69693895e-03,  3.48043832e-02, ...,\n",
       "        -2.77555756e-16,  0.00000000e+00,  7.29371865e-17]])"
      ]
     },
     "execution_count": 51,
     "metadata": {},
     "output_type": "execute_result"
    }
   ],
   "source": [
    "U, S, V = np.linalg.svd(cov_matrix)\n",
    "U"
   ]
  },
  {
   "cell_type": "markdown",
   "id": "0bbf5c24",
   "metadata": {},
   "source": [
    "### 4(e). Take the top r eigenvectors and generate the reduced dimension image as taught in class. "
   ]
  },
  {
   "cell_type": "code",
   "execution_count": 68,
   "id": "790700ec",
   "metadata": {},
   "outputs": [
    {
     "data": {
      "text/plain": [
       "array([[[ 0.00000000e+00,  3.03204312e-01,  5.20461568e+00, ...,\n",
       "          5.78186140e+00,  1.36231472e+00,  1.30661660e-01],\n",
       "        [ 1.66137321e-02,  1.99385062e+00,  1.03822617e+01, ...,\n",
       "          8.17588674e+00,  1.84626466e+00,  1.05261367e-01],\n",
       "        [ 4.06016796e-03,  2.60166055e+00,  9.90313434e+00, ...,\n",
       "          7.80629483e+00,  1.78865679e+00,  5.42496202e-02],\n",
       "        ...,\n",
       "        [-1.02626298e-02,  1.58408095e+00,  6.88128930e+00, ...,\n",
       "          8.23651278e+00,  3.45625451e+00,  2.74146419e-02],\n",
       "        [-3.79139998e-02,  7.06772906e-01,  7.50681218e+00, ...,\n",
       "          8.75850123e+00,  3.72522691e+00,  2.06336985e-01],\n",
       "        [-1.35243881e-03,  2.79111095e-01,  5.55767439e+00, ...,\n",
       "          6.76408555e+00,  2.06776830e+00,  3.64621772e-01]],\n",
       "\n",
       "       [[ 0.00000000e+00,  3.02612517e-01,  5.20459060e+00, ...,\n",
       "          5.78183118e+00,  1.36232150e+00,  1.30493025e-01],\n",
       "        [-3.08650466e-02,  1.99439833e+00,  1.03822585e+01, ...,\n",
       "          8.17593888e+00,  1.84630413e+00,  1.05840990e-01],\n",
       "        [-9.56647021e-03,  2.60166906e+00,  9.90306147e+00, ...,\n",
       "          7.80628722e+00,  1.78861325e+00,  5.37441948e-02],\n",
       "        ...,\n",
       "        [-5.17180450e-03,  1.58398741e+00,  6.88134448e+00, ...,\n",
       "          8.23652681e+00,  3.45627040e+00,  2.71958495e-02],\n",
       "        [-2.65773580e-02,  7.06171711e-01,  7.50686973e+00, ...,\n",
       "          8.75850480e+00,  3.72509526e+00,  2.06574284e-01],\n",
       "        [-2.83938818e-03,  2.79489312e-01,  5.55757838e+00, ...,\n",
       "          6.76410179e+00,  2.06783124e+00,  3.64535070e-01]],\n",
       "\n",
       "       [[ 0.00000000e+00,  3.02534293e-01,  5.20418404e+00, ...,\n",
       "          5.78184548e+00,  1.36246412e+00,  1.33520395e-01],\n",
       "        [ 2.87938699e-02,  1.99391354e+00,  1.03822741e+01, ...,\n",
       "          8.17598724e+00,  1.84585198e+00,  9.79944410e-02],\n",
       "        [ 1.31039483e-02,  2.60195364e+00,  9.90291223e+00, ...,\n",
       "          7.80603458e+00,  1.78895095e+00,  6.62981272e-02],\n",
       "        ...,\n",
       "        [-1.36096668e-01,  1.58598554e+00,  6.88068730e+00, ...,\n",
       "          8.23655162e+00,  3.45616277e+00,  2.80666910e-02],\n",
       "        [-1.29111747e-01,  7.12832248e-01,  7.50639808e+00, ...,\n",
       "          8.75858333e+00,  3.72553893e+00,  2.06125838e-01],\n",
       "        [-1.47858811e-02,  2.77177022e-01,  5.55777204e+00, ...,\n",
       "          6.76421312e+00,  2.06744778e+00,  3.64901058e-01]],\n",
       "\n",
       "       ...,\n",
       "\n",
       "       [[ 0.00000000e+00,  3.04671226e-01,  5.20504787e+00, ...,\n",
       "          5.78187799e+00,  1.36219673e+00,  1.28202620e-01],\n",
       "        [ 7.27413583e-03,  1.99372932e+00,  1.03823198e+01, ...,\n",
       "          8.17577653e+00,  1.84660863e+00,  1.11746246e-01],\n",
       "        [ 1.54424336e-02,  2.60135516e+00,  9.90329291e+00, ...,\n",
       "          7.80645425e+00,  1.78838391e+00,  4.39046886e-02],\n",
       "        ...,\n",
       "        [ 5.48447800e-02,  1.58301980e+00,  6.88174803e+00, ...,\n",
       "          8.23648483e+00,  3.45638991e+00,  2.70222914e-02],\n",
       "        [ 6.22842546e-02,  7.01360274e-01,  7.50717245e+00, ...,\n",
       "          8.75845513e+00,  3.72495778e+00,  2.06554462e-01],\n",
       "        [ 4.48152294e-03,  2.79949557e-01,  5.55754569e+00, ...,\n",
       "          6.76398891e+00,  2.06804855e+00,  3.64344760e-01]],\n",
       "\n",
       "       [[ 0.00000000e+00,  3.03735576e-01,  5.20473825e+00, ...,\n",
       "          5.78185401e+00,  1.36227656e+00,  1.29787876e-01],\n",
       "        [ 1.46110811e-02,  1.99378632e+00,  1.03823087e+01, ...,\n",
       "          8.17585186e+00,  1.84639165e+00,  1.07533583e-01],\n",
       "        [-9.36547855e-03,  2.60163616e+00,  9.90316703e+00, ...,\n",
       "          7.80633900e+00,  1.78856251e+00,  5.04873084e-02],\n",
       "        ...,\n",
       "        [ 9.27094075e-03,  1.58376670e+00,  6.88143899e+00, ...,\n",
       "          8.23650184e+00,  3.45629248e+00,  2.73330673e-02],\n",
       "        [-2.67572356e-03,  7.04948516e-01,  7.50690896e+00, ...,\n",
       "          8.75848140e+00,  3.72513457e+00,  2.06377415e-01],\n",
       "        [-2.21452975e-03,  2.79356873e-01,  5.55762224e+00, ...,\n",
       "          6.76404421e+00,  2.06786362e+00,  3.64542803e-01]],\n",
       "\n",
       "       [[ 0.00000000e+00,  2.99618060e-01,  5.20380736e+00, ...,\n",
       "          5.78185331e+00,  1.36243982e+00,  1.35598687e-01],\n",
       "        [ 3.02690779e-02,  1.99416762e+00,  1.03820313e+01, ...,\n",
       "          8.17608881e+00,  1.84570007e+00,  9.25325279e-02],\n",
       "        [ 9.54626081e-03,  2.60209431e+00,  9.90293570e+00, ...,\n",
       "          7.80610750e+00,  1.78908254e+00,  7.60900846e-02],\n",
       "        ...,\n",
       "        [-8.47924616e-02,  1.58540205e+00,  6.88049934e+00, ...,\n",
       "          8.23654818e+00,  3.45597711e+00,  2.78272924e-02],\n",
       "        [-2.40622692e-01,  7.16915338e-01,  7.50620361e+00, ...,\n",
       "          8.75858324e+00,  3.72572157e+00,  2.06005525e-01],\n",
       "        [-2.38912154e-02,  2.78463091e-01,  5.55798455e+00, ...,\n",
       "          6.76425364e+00,  2.06724772e+00,  3.65132809e-01]]])"
      ]
     },
     "execution_count": 68,
     "metadata": {},
     "output_type": "execute_result"
    }
   ],
   "source": [
    "r = 10  \n",
    "U_r = U[:, -r:]\n",
    "\n",
    "reduced_images = np.dot(mean_subtracted_images, U_r)\n",
    "\n",
    "reconstructed_images = np.dot(reduced_images, U_r.T)\n",
    "reconstructed_images = reconstructed_images + mean_image\n",
    "reconstructed_images = np.transpose(reconstructed_images.reshape(images.shape[0], 8, 8), (0, 2, 1))\n",
    "reconstructed_images"
   ]
  },
  {
   "cell_type": "markdown",
   "id": "47fd63b2",
   "metadata": {},
   "source": [
    "### 4(f). Plot the digit image with reduced dimension (take the sample with last digit of my ID = 4) "
   ]
  },
  {
   "cell_type": "code",
   "execution_count": 73,
   "id": "ca2bd40b",
   "metadata": {},
   "outputs": [
    {
     "data": {
      "image/png": "[encoded data removed]",
      "text/plain": [
       "<Figure size 800x400 with 2 Axes>"
      ]
     },
     "metadata": {},
     "output_type": "display_data"
    }
   ],
   "source": [
    "sample_index = 4\n",
    "\n",
    "fig, axes = plt.subplots(nrows=1, ncols=2, figsize=(8, 4))\n",
    "\n",
    "axes[0].imshow(images[sample_index], cmap='gray')\n",
    "axes[0].axis('off')\n",
    "axes[0].set_title('Original')\n",
    "\n",
    "axes[1].imshow(reconstructed_images[sample_index], cmap='gray')\n",
    "axes[1].axis('off')\n",
    "axes[1].set_title('Reduced Dimension')\n",
    "\n",
    "plt.tight_layout()\n",
    "plt.show()"
   ]
  },
  {
   "cell_type": "code",
   "execution_count": null,
   "id": "61b3353c",
   "metadata": {},
   "outputs": [],
   "source": [
    "Requirements:\n",
    "             1. Knowledge of Principal Component Analysis (PCA)\n",
    "             2. Knowledge about Digits Dataset\n",
    "             3. Basic Python Programming\n",
    "             4. Python Packages & Libraries\n",
    "             5. Jupyter Notebook"
   ]
  }
 ],
 "metadata": {
  "kernelspec": {
   "display_name": "Python 3 (ipykernel)",
   "language": "python",
   "name": "python3"
  },
  "language_info": {
   "codemirror_mode": {
    "name": "ipython",
    "version": 3
   },
   "file_extension": ".py",
   "mimetype": "text/x-python",
   "name": "python",
   "nbconvert_exporter": "python",
   "pygments_lexer": "ipython3",
   "version": "3.9.13"
  }
 },
 "nbformat": 4,
 "nbformat_minor": 5
}
